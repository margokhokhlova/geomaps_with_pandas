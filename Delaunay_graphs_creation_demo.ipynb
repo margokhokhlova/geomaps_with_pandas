{
 "cells": [
  {
   "cell_type": "markdown",
   "metadata": {},
   "source": [
    "This is a jupyter notebook to get the graphs from geo maps."
   ]
  },
  {
   "cell_type": "code",
   "execution_count": 39,
   "metadata": {},
   "outputs": [],
   "source": [
    "import random\n",
    "import os\n",
    "import numpy as np\n",
    "import networkx as nx\n",
    "import geopandas as gpd\n",
    "import pandas as pd\n",
    "import matplotlib\n",
    "from matplotlib import pyplot as plt\n",
    "\n",
    "from matplotlib.collections import PatchCollection\n",
    "\n",
    "\n",
    "# Load the box module from shapely to create box objects\n",
    "from shapely.geometry import box, Point, Polygon, MultiPoint, shape, LineString\n",
    "from shapely.ops import triangulate\n",
    "from shapely.affinity import translate\n",
    "\n",
    "from earthpy import clip as cl\n",
    "import pickle #to save the resulting graphs\n",
    "\n",
    "# to display images inline\n",
    "get_ipython().magic(u'matplotlib inline')\n",
    "matplotlib.use('Agg')# not sure what I used it for\n",
    "%matplotlib inline "
   ]
  },
  {
   "cell_type": "markdown",
   "metadata": {},
   "source": [
    "# RELATIVE NEIGHBORHOOD GRAPH\n",
    "\n",
    "This notebook demonstrated how Delaunay graphs can be calculated from  OSM data in the form of shapefiles.\n",
    "Recent OSM data can be downloded from the project website, here we use a French region called Lorraine.\n",
    "\n",
    "#### Pre-processing:\n",
    "\n",
    "We processed data in QGIS to merge the buildings which touch, and to extract  certain separate categories from the buildings.\n",
    "\n",
    "#### Categories\n",
    "A pre-selected set of objects  is defined. The nodes of our graphs are formed by these objects,each category is cooded as a unique integer. Some of categories are missing from OSM data, but we keep the codes to be consistent.\n",
    "\n",
    "aerodroms:    0\n",
    "\n",
    "houses:       1\n",
    "\n",
    "public build: 2 \n",
    "\n",
    "railway stat: 3           \n",
    "\n",
    "sport build:  4\n",
    "\n",
    "arcs, towers: 5\n",
    "\n",
    "churches:     6\n",
    "\n",
    "castles:      7\n",
    "\n",
    "forts:        8\n",
    "\n",
    "monuments:    9\n",
    "\n",
    "cemetries:   10\n",
    "\n",
    "sport build: 11\n",
    "\n",
    "roads:       12\n",
    "\n",
    "water:       13\n",
    "\n",
    "railroads:   14\n",
    " \n"
   ]
  },
  {
   "cell_type": "code",
   "execution_count": 2,
   "metadata": {},
   "outputs": [],
   "source": [
    "# define the region folder - folder where OSM data are unpacked\n",
    "global_path = \"./lorraine\""
   ]
  },
  {
   "cell_type": "markdown",
   "metadata": {},
   "source": [
    "Load all shapefiles as geopandas dataframes. We also convert the data to Lambert 93 on the way.\n",
    "\n"
   ]
  },
  {
   "cell_type": "markdown",
   "metadata": {},
   "source": [
    "## ROADS"
   ]
  },
  {
   "cell_type": "code",
   "execution_count": 3,
   "metadata": {},
   "outputs": [],
   "source": [
    "# load all the shapely files related to ROADS\n",
    "fp_road = global_path + \"/gis_osm_roads_free_1.shp\"\n",
    "all_roads = gpd.read_file(fp_road)\n",
    "all_roads = all_roads.to_crs(\"EPSG:2154\") "
   ]
  },
  {
   "cell_type": "code",
   "execution_count": 4,
   "metadata": {},
   "outputs": [
    {
     "data": {
      "text/html": [
       "<div>\n",
       "<style scoped>\n",
       "    .dataframe tbody tr th:only-of-type {\n",
       "        vertical-align: middle;\n",
       "    }\n",
       "\n",
       "    .dataframe tbody tr th {\n",
       "        vertical-align: top;\n",
       "    }\n",
       "\n",
       "    .dataframe thead th {\n",
       "        text-align: right;\n",
       "    }\n",
       "</style>\n",
       "<table border=\"1\" class=\"dataframe\">\n",
       "  <thead>\n",
       "    <tr style=\"text-align: right;\">\n",
       "      <th></th>\n",
       "      <th>osm_id</th>\n",
       "      <th>code</th>\n",
       "      <th>fclass</th>\n",
       "      <th>name</th>\n",
       "      <th>ref</th>\n",
       "      <th>oneway</th>\n",
       "      <th>maxspeed</th>\n",
       "      <th>layer</th>\n",
       "      <th>bridge</th>\n",
       "      <th>tunnel</th>\n",
       "      <th>geometry</th>\n",
       "    </tr>\n",
       "  </thead>\n",
       "  <tbody>\n",
       "    <tr>\n",
       "      <th>0</th>\n",
       "      <td>2284506</td>\n",
       "      <td>5131</td>\n",
       "      <td>motorway_link</td>\n",
       "      <td>None</td>\n",
       "      <td>A 31</td>\n",
       "      <td>F</td>\n",
       "      <td>70</td>\n",
       "      <td>0</td>\n",
       "      <td>F</td>\n",
       "      <td>F</td>\n",
       "      <td>LINESTRING (926317.999 6848103.926, 926303.576...</td>\n",
       "    </tr>\n",
       "    <tr>\n",
       "      <th>1</th>\n",
       "      <td>2306356</td>\n",
       "      <td>5131</td>\n",
       "      <td>motorway_link</td>\n",
       "      <td>None</td>\n",
       "      <td>A 31</td>\n",
       "      <td>F</td>\n",
       "      <td>110</td>\n",
       "      <td>0</td>\n",
       "      <td>F</td>\n",
       "      <td>F</td>\n",
       "      <td>LINESTRING (925999.230 6847969.946, 926002.566...</td>\n",
       "    </tr>\n",
       "    <tr>\n",
       "      <th>2</th>\n",
       "      <td>2371422</td>\n",
       "      <td>5131</td>\n",
       "      <td>motorway_link</td>\n",
       "      <td>None</td>\n",
       "      <td>None</td>\n",
       "      <td>F</td>\n",
       "      <td>0</td>\n",
       "      <td>0</td>\n",
       "      <td>F</td>\n",
       "      <td>F</td>\n",
       "      <td>LINESTRING (911516.762 6818357.130, 911510.086...</td>\n",
       "    </tr>\n",
       "    <tr>\n",
       "      <th>3</th>\n",
       "      <td>2371423</td>\n",
       "      <td>5141</td>\n",
       "      <td>service</td>\n",
       "      <td>None</td>\n",
       "      <td>None</td>\n",
       "      <td>F</td>\n",
       "      <td>0</td>\n",
       "      <td>0</td>\n",
       "      <td>F</td>\n",
       "      <td>F</td>\n",
       "      <td>LINESTRING (911470.001 6818072.927, 911471.198...</td>\n",
       "    </tr>\n",
       "    <tr>\n",
       "      <th>4</th>\n",
       "      <td>2371424</td>\n",
       "      <td>5141</td>\n",
       "      <td>service</td>\n",
       "      <td>None</td>\n",
       "      <td>None</td>\n",
       "      <td>F</td>\n",
       "      <td>0</td>\n",
       "      <td>0</td>\n",
       "      <td>F</td>\n",
       "      <td>F</td>\n",
       "      <td>LINESTRING (911445.587 6817975.063, 911440.070...</td>\n",
       "    </tr>\n",
       "  </tbody>\n",
       "</table>\n",
       "</div>"
      ],
      "text/plain": [
       "    osm_id  code         fclass  name   ref oneway  maxspeed  layer bridge  \\\n",
       "0  2284506  5131  motorway_link  None  A 31      F        70      0      F   \n",
       "1  2306356  5131  motorway_link  None  A 31      F       110      0      F   \n",
       "2  2371422  5131  motorway_link  None  None      F         0      0      F   \n",
       "3  2371423  5141        service  None  None      F         0      0      F   \n",
       "4  2371424  5141        service  None  None      F         0      0      F   \n",
       "\n",
       "  tunnel                                           geometry  \n",
       "0      F  LINESTRING (926317.999 6848103.926, 926303.576...  \n",
       "1      F  LINESTRING (925999.230 6847969.946, 926002.566...  \n",
       "2      F  LINESTRING (911516.762 6818357.130, 911510.086...  \n",
       "3      F  LINESTRING (911470.001 6818072.927, 911471.198...  \n",
       "4      F  LINESTRING (911445.587 6817975.063, 911440.070...  "
      ]
     },
     "execution_count": 4,
     "metadata": {},
     "output_type": "execute_result"
    }
   ],
   "source": [
    "all_roads.head() # small demo of the roads and the info we have"
   ]
  },
  {
   "cell_type": "markdown",
   "metadata": {},
   "source": [
    "## Houses"
   ]
  },
  {
   "cell_type": "code",
   "execution_count": 5,
   "metadata": {},
   "outputs": [],
   "source": [
    "# Load all the data from the BUILDINGS caegory\n",
    "fp_bati = global_path + \"/buildings_merged.shp\"\n",
    "# Read file using gpd.read_file()\n",
    "all_buildings = gpd.read_file(fp_bati)\n",
    "all_buildings = all_buildings.to_crs(\"EPSG:2154\") \n"
   ]
  },
  {
   "cell_type": "markdown",
   "metadata": {},
   "source": [
    "## Churches"
   ]
  },
  {
   "cell_type": "code",
   "execution_count": 6,
   "metadata": {},
   "outputs": [],
   "source": [
    "#places of worship\n",
    "churches = global_path +  \"/gis_osm_pofw_free_1.shp\"\n",
    "churches = gpd.read_file(churches)\n",
    "churches=churches.to_crs(\"EPSG:2154\") "
   ]
  },
  {
   "cell_type": "markdown",
   "metadata": {},
   "source": [
    "## Towers, castles, forts, monuments"
   ]
  },
  {
   "cell_type": "code",
   "execution_count": 7,
   "metadata": {},
   "outputs": [],
   "source": [
    "fp_poi = global_path + \"/gis_osm_pois_free_1.shp\" \n",
    "# Read file using gpd.read_file()\n",
    "poi = gpd.read_file(fp_poi)\n",
    "poi=poi.to_crs(\"EPSG:2154\") \n",
    "poi.fclass.unique()\n",
    "towers = poi.loc[poi['fclass'] == 'tower']\n",
    "castels = poi.loc[poi['fclass'] == 'castle']\n",
    "forts = poi.loc[poi['fclass']=='fort']\n",
    "monuments = poi.loc[poi['fclass']=='monument']"
   ]
  },
  {
   "cell_type": "code",
   "execution_count": 8,
   "metadata": {},
   "outputs": [
    {
     "name": "stdout",
     "output_type": "stream",
     "text": [
      "statisics over all POI objects. There 308 churches, 58 towers, 129 monuments, 5 forts, 88 castles and 880615 ordinary buildings\n"
     ]
    }
   ],
   "source": [
    "print(\"statisics over all POI objects. There %d churches, %d towers, %d monuments, %d forts, %d castles and %d ordinary buildings\" \n",
    "      %(len(churches),len(towers),len(monuments), len(forts), len(castels), len(all_buildings)))"
   ]
  },
  {
   "cell_type": "markdown",
   "metadata": {},
   "source": [
    "## WATER "
   ]
  },
  {
   "cell_type": "code",
   "execution_count": 9,
   "metadata": {},
   "outputs": [],
   "source": [
    "fp_water =  global_path + \"/gis_osm_waterways_free_1.shp\"\n",
    "all_water = gpd.read_file(fp_water)\n",
    "all_water = all_water.to_crs(\"EPSG:2154\")"
   ]
  },
  {
   "cell_type": "markdown",
   "metadata": {},
   "source": [
    "## SPORT TERRITORIES"
   ]
  },
  {
   "cell_type": "code",
   "execution_count": 10,
   "metadata": {},
   "outputs": [],
   "source": [
    "fp_sport = global_path +  \"/gis_osm_pois_free_1.shp\"\n",
    "data_sport = gpd.read_file(fp_sport)\n",
    "data_sport=data_sport.to_crs(\"EPSG:2154\") \n",
    "data_sport = data_sport.loc[data_sport['fclass'] == 'stadium']"
   ]
  },
  {
   "cell_type": "markdown",
   "metadata": {},
   "source": [
    "## CEMETRIES"
   ]
  },
  {
   "cell_type": "code",
   "execution_count": 11,
   "metadata": {},
   "outputs": [],
   "source": [
    "fp_cemetries = global_path +  \"/gis_osm_pois_a_free_1.shp\"\n",
    "data_cemetries = gpd.read_file(fp_cemetries)\n",
    "data_cemetries=data_cemetries.to_crs(\"EPSG:2154\") \n",
    "#pick the graveyards\n",
    "data_cemetries =  data_cemetries.loc[data_cemetries['fclass'] =='graveyard']"
   ]
  },
  {
   "cell_type": "markdown",
   "metadata": {},
   "source": [
    "## RAILROADS"
   ]
  },
  {
   "cell_type": "code",
   "execution_count": 12,
   "metadata": {},
   "outputs": [],
   "source": [
    "#railroads\n",
    "fp_rail = global_path + \"/gis_osm_railways_free_1.shp\"\n",
    "data_rail  = gpd.read_file(fp_rail)\n",
    "data_rail = data_rail.to_crs(\"EPSG:2154\") "
   ]
  },
  {
   "cell_type": "code",
   "execution_count": 14,
   "metadata": {},
   "outputs": [
    {
     "name": "stdout",
     "output_type": "stream",
     "text": [
      "statisics over all line objects. There 305429 road segments, 17094 water segements, 9002 railroad segments\n"
     ]
    }
   ],
   "source": [
    "print(\"statisics over all line objects. There %d road segments, %d water segements, %d railroad segments\" \n",
    "      %(len(all_roads),len(all_water),len(data_rail)))"
   ]
  },
  {
   "cell_type": "markdown",
   "metadata": {},
   "source": [
    "## BOUNDING BOXES FROM THE IMAGES\n",
    "We use the pre-save bounding boxes, just change the paths to the right one. The bounding box just limits the zone to create different graphs."
   ]
  },
  {
   "cell_type": "code",
   "execution_count": 15,
   "metadata": {},
   "outputs": [],
   "source": [
    "image_polygons = gpd.read_file('image_polygons_57.shp') # image polygons for POI in Moselle region"
   ]
  },
  {
   "cell_type": "code",
   "execution_count": 16,
   "metadata": {},
   "outputs": [
    {
     "data": {
      "text/html": [
       "<div>\n",
       "<style scoped>\n",
       "    .dataframe tbody tr th:only-of-type {\n",
       "        vertical-align: middle;\n",
       "    }\n",
       "\n",
       "    .dataframe tbody tr th {\n",
       "        vertical-align: top;\n",
       "    }\n",
       "\n",
       "    .dataframe thead th {\n",
       "        text-align: right;\n",
       "    }\n",
       "</style>\n",
       "<table border=\"1\" class=\"dataframe\">\n",
       "  <thead>\n",
       "    <tr style=\"text-align: right;\">\n",
       "      <th></th>\n",
       "      <th>ID</th>\n",
       "      <th>PREC_PLANI</th>\n",
       "      <th>PREC_ALTI</th>\n",
       "      <th>ORIGIN_BAT</th>\n",
       "      <th>NATURE</th>\n",
       "      <th>HAUTEUR</th>\n",
       "      <th>Z_MIN</th>\n",
       "      <th>Z_MAX</th>\n",
       "      <th>geo_ID</th>\n",
       "      <th>geometry</th>\n",
       "    </tr>\n",
       "  </thead>\n",
       "  <tbody>\n",
       "    <tr>\n",
       "      <th>0</th>\n",
       "      <td>BATIMENT0000000060102862</td>\n",
       "      <td>1.5</td>\n",
       "      <td>1.0</td>\n",
       "      <td>Autre</td>\n",
       "      <td>Aérogare</td>\n",
       "      <td>6</td>\n",
       "      <td>212.1</td>\n",
       "      <td>214.4</td>\n",
       "      <td>1</td>\n",
       "      <td>POLYGON ((972345.452 6858811.904, 972345.452 6...</td>\n",
       "    </tr>\n",
       "    <tr>\n",
       "      <th>1</th>\n",
       "      <td>BATIMENT0000000060102861</td>\n",
       "      <td>1.5</td>\n",
       "      <td>1.0</td>\n",
       "      <td>Autre</td>\n",
       "      <td>Aérogare</td>\n",
       "      <td>5</td>\n",
       "      <td>213.0</td>\n",
       "      <td>213.9</td>\n",
       "      <td>1</td>\n",
       "      <td>POLYGON ((972380.718 6858855.627, 972380.718 6...</td>\n",
       "    </tr>\n",
       "    <tr>\n",
       "      <th>2</th>\n",
       "      <td>BATIMENT0000000060048570</td>\n",
       "      <td>1.5</td>\n",
       "      <td>1.0</td>\n",
       "      <td>Autre</td>\n",
       "      <td>Gare</td>\n",
       "      <td>10</td>\n",
       "      <td>311.2</td>\n",
       "      <td>315.0</td>\n",
       "      <td>2</td>\n",
       "      <td>POLYGON ((1023728.587 6892193.197, 1023728.587...</td>\n",
       "    </tr>\n",
       "    <tr>\n",
       "      <th>3</th>\n",
       "      <td>BATIMENT0000000060048971</td>\n",
       "      <td>1.5</td>\n",
       "      <td>1.0</td>\n",
       "      <td>Autre</td>\n",
       "      <td>Gare</td>\n",
       "      <td>8</td>\n",
       "      <td>344.3</td>\n",
       "      <td>347.0</td>\n",
       "      <td>3</td>\n",
       "      <td>POLYGON ((1014066.432 6891734.094, 1014066.432...</td>\n",
       "    </tr>\n",
       "    <tr>\n",
       "      <th>4</th>\n",
       "      <td>BATIMENT0000000060057787</td>\n",
       "      <td>1.5</td>\n",
       "      <td>1.0</td>\n",
       "      <td>Autre</td>\n",
       "      <td>Gare</td>\n",
       "      <td>3</td>\n",
       "      <td>258.0</td>\n",
       "      <td>258.9</td>\n",
       "      <td>4</td>\n",
       "      <td>POLYGON ((1028204.314 6889063.727, 1028204.314...</td>\n",
       "    </tr>\n",
       "    <tr>\n",
       "      <th>...</th>\n",
       "      <td>...</td>\n",
       "      <td>...</td>\n",
       "      <td>...</td>\n",
       "      <td>...</td>\n",
       "      <td>...</td>\n",
       "      <td>...</td>\n",
       "      <td>...</td>\n",
       "      <td>...</td>\n",
       "      <td>...</td>\n",
       "      <td>...</td>\n",
       "    </tr>\n",
       "    <tr>\n",
       "      <th>3163</th>\n",
       "      <td>BATIMENT0000000113486870</td>\n",
       "      <td>10.0</td>\n",
       "      <td>9999.0</td>\n",
       "      <td>Autre</td>\n",
       "      <td>Fort, blockhaus, casemate</td>\n",
       "      <td>0</td>\n",
       "      <td>-99.0</td>\n",
       "      <td>-99.0</td>\n",
       "      <td>3163</td>\n",
       "      <td>POLYGON ((928535.107 6880714.766, 928535.107 6...</td>\n",
       "    </tr>\n",
       "    <tr>\n",
       "      <th>3164</th>\n",
       "      <td>BATIMENT0000000113487410</td>\n",
       "      <td>10.0</td>\n",
       "      <td>9999.0</td>\n",
       "      <td>Autre</td>\n",
       "      <td>Fort, blockhaus, casemate</td>\n",
       "      <td>0</td>\n",
       "      <td>-99.0</td>\n",
       "      <td>-99.0</td>\n",
       "      <td>3164</td>\n",
       "      <td>POLYGON ((934534.633 6895005.422, 934534.633 6...</td>\n",
       "    </tr>\n",
       "    <tr>\n",
       "      <th>3165</th>\n",
       "      <td>BATIMENT0000000113487129</td>\n",
       "      <td>10.0</td>\n",
       "      <td>9999.0</td>\n",
       "      <td>Autre</td>\n",
       "      <td>Fort, blockhaus, casemate</td>\n",
       "      <td>0</td>\n",
       "      <td>-99.0</td>\n",
       "      <td>-99.0</td>\n",
       "      <td>3165</td>\n",
       "      <td>POLYGON ((929217.050 6891944.434, 929217.050 6...</td>\n",
       "    </tr>\n",
       "    <tr>\n",
       "      <th>3166</th>\n",
       "      <td>BATIMENT0000000113487021</td>\n",
       "      <td>10.0</td>\n",
       "      <td>9999.0</td>\n",
       "      <td>Autre</td>\n",
       "      <td>Fort, blockhaus, casemate</td>\n",
       "      <td>0</td>\n",
       "      <td>-99.0</td>\n",
       "      <td>-99.0</td>\n",
       "      <td>3166</td>\n",
       "      <td>POLYGON ((930223.890 6891458.404, 930223.890 6...</td>\n",
       "    </tr>\n",
       "    <tr>\n",
       "      <th>3167</th>\n",
       "      <td>BATIMENT0000000113486949</td>\n",
       "      <td>10.0</td>\n",
       "      <td>9999.0</td>\n",
       "      <td>Autre</td>\n",
       "      <td>Eglise</td>\n",
       "      <td>0</td>\n",
       "      <td>-99.0</td>\n",
       "      <td>-99.0</td>\n",
       "      <td>3167</td>\n",
       "      <td>POLYGON ((930640.096 6887280.664, 930640.096 6...</td>\n",
       "    </tr>\n",
       "  </tbody>\n",
       "</table>\n",
       "<p>3168 rows × 10 columns</p>\n",
       "</div>"
      ],
      "text/plain": [
       "                            ID  PREC_PLANI  PREC_ALTI ORIGIN_BAT  \\\n",
       "0     BATIMENT0000000060102862         1.5        1.0      Autre   \n",
       "1     BATIMENT0000000060102861         1.5        1.0      Autre   \n",
       "2     BATIMENT0000000060048570         1.5        1.0      Autre   \n",
       "3     BATIMENT0000000060048971         1.5        1.0      Autre   \n",
       "4     BATIMENT0000000060057787         1.5        1.0      Autre   \n",
       "...                        ...         ...        ...        ...   \n",
       "3163  BATIMENT0000000113486870        10.0     9999.0      Autre   \n",
       "3164  BATIMENT0000000113487410        10.0     9999.0      Autre   \n",
       "3165  BATIMENT0000000113487129        10.0     9999.0      Autre   \n",
       "3166  BATIMENT0000000113487021        10.0     9999.0      Autre   \n",
       "3167  BATIMENT0000000113486949        10.0     9999.0      Autre   \n",
       "\n",
       "                         NATURE  HAUTEUR  Z_MIN  Z_MAX  geo_ID  \\\n",
       "0                      Aérogare        6  212.1  214.4       1   \n",
       "1                      Aérogare        5  213.0  213.9       1   \n",
       "2                          Gare       10  311.2  315.0       2   \n",
       "3                          Gare        8  344.3  347.0       3   \n",
       "4                          Gare        3  258.0  258.9       4   \n",
       "...                         ...      ...    ...    ...     ...   \n",
       "3163  Fort, blockhaus, casemate        0  -99.0  -99.0    3163   \n",
       "3164  Fort, blockhaus, casemate        0  -99.0  -99.0    3164   \n",
       "3165  Fort, blockhaus, casemate        0  -99.0  -99.0    3165   \n",
       "3166  Fort, blockhaus, casemate        0  -99.0  -99.0    3166   \n",
       "3167                     Eglise        0  -99.0  -99.0    3167   \n",
       "\n",
       "                                               geometry  \n",
       "0     POLYGON ((972345.452 6858811.904, 972345.452 6...  \n",
       "1     POLYGON ((972380.718 6858855.627, 972380.718 6...  \n",
       "2     POLYGON ((1023728.587 6892193.197, 1023728.587...  \n",
       "3     POLYGON ((1014066.432 6891734.094, 1014066.432...  \n",
       "4     POLYGON ((1028204.314 6889063.727, 1028204.314...  \n",
       "...                                                 ...  \n",
       "3163  POLYGON ((928535.107 6880714.766, 928535.107 6...  \n",
       "3164  POLYGON ((934534.633 6895005.422, 934534.633 6...  \n",
       "3165  POLYGON ((929217.050 6891944.434, 929217.050 6...  \n",
       "3166  POLYGON ((930223.890 6891458.404, 930223.890 6...  \n",
       "3167  POLYGON ((930640.096 6887280.664, 930640.096 6...  \n",
       "\n",
       "[3168 rows x 10 columns]"
      ]
     },
     "execution_count": 16,
     "metadata": {},
     "output_type": "execute_result"
    }
   ],
   "source": [
    "image_polygons"
   ]
  },
  {
   "cell_type": "markdown",
   "metadata": {},
   "source": [
    "## Graph creation\n",
    "Below are the functions defined for each step of Delaunay graph creation procedure."
   ]
  },
  {
   "cell_type": "code",
   "execution_count": 17,
   "metadata": {},
   "outputs": [],
   "source": [
    "# parameters of the nodes\n",
    "def calculate_eccentricity(geometry):\n",
    "    ''' function calculates eccentricity measure (w/l of min envelop rectangle) '''\n",
    "    envelop_rect = geometry.minimum_rotated_rectangle\n",
    "    minx, miny, maxx, maxy = envelop_rect.bounds\n",
    "    width = maxx - minx\n",
    "    height = maxy - miny\n",
    "    if height ==0 or width ==0:\n",
    "        return 0\n",
    "    if width < height:\n",
    "        return  width/height\n",
    "    else:\n",
    "        return height/width\n",
    "        \n",
    "def calculate_perimeter(geometry):\n",
    "    ''' function calculates the perimeter of the shapely geometry '''\n",
    "    return geometry.length\n",
    "# unit tests\n",
    "# calculate_perimeter(buildings3.geometry[1])"
   ]
  },
  {
   "cell_type": "code",
   "execution_count": 18,
   "metadata": {},
   "outputs": [],
   "source": [
    "def get_node_attributes(shapely_geometry, poly_bound, nature, within_poly = True):\n",
    "    \"\"\" function returns attributes of road/house node:\n",
    "    nature, normed_lenght and eccentricity \"\"\"\n",
    "    attributes = {}\n",
    "    obj_type = nature\n",
    "    if within_poly:\n",
    "        obj_length = calculate_perimeter(shapely_geometry)\n",
    "        frame_perimeter = poly_bound.length\n",
    "        obj_normed_length = obj_length/frame_perimeter \n",
    "        obj_points = calculate_eccentricity(shapely_geometry)\n",
    "    else:\n",
    "        obj_normed_length = 0\n",
    "        obj_points = 0\n",
    "    attributes = {'nature': obj_type, 'normed_length':obj_normed_length, \n",
    "                 'eccentricity':obj_points}\n",
    "    return attributes"
   ]
  },
  {
   "cell_type": "code",
   "execution_count": 19,
   "metadata": {},
   "outputs": [],
   "source": [
    "def calculate_distance(obj1, obj2):\n",
    "    ''' this fucntion calculates the minimum distance between the objects:\n",
    "    if an object is a polygon, its center is considered as a central point\n",
    "    if an object is a line, the distance is the lenght of the normal from another object,\n",
    "    if both objects are lines, the distance is 0'''\n",
    "    d = None\n",
    "    if obj1.type == 'Polygon' and obj2.type == 'Polygon':\n",
    "        #print(\"polyg polyg\")\n",
    "        proj_dist = obj1.centroid.distance(obj2.centroid) #euclidean distance\n",
    "        d = proj_dist\n",
    "    elif obj1.type == 'LineString' and obj2.type == 'Polygon':\n",
    "        #print(\"linestr polyg\")\n",
    "        proj_dist= obj2.centroid.distance(obj1) \n",
    "#         print(proj_dist)\n",
    "#         print(obj1.project(obj2.centroid))\n",
    "        d = proj_dist\n",
    "    elif obj2.type=='LineString' and obj1.type == 'Polygon':\n",
    "        #print(\" polyg linestr\")\n",
    "        proj_dist= obj1.centroid.distance(obj2)     \n",
    "        d = proj_dist\n",
    "    elif obj1.type == 'LineString' and  obj2.type=='LineString':\n",
    "        #print(\" linestr linestr\")\n",
    "        if obj1.intersects( obj2):\n",
    "            d = 0\n",
    "        else:\n",
    "            d = None\n",
    "    elif obj1.type == 'shapely.geometry.LineString' and  obj2.type=='shapely.geometry.LineString':\n",
    "        #print(\" linestr linestr\")\n",
    "        if obj1.intersects( obj2):\n",
    "            d = 0\n",
    "        else:\n",
    "            d = None    \n",
    "    else:\n",
    "        print(\" unkn unkn\")\n",
    "        try:\n",
    "            print(type(obj1),type(obj2))\n",
    "            d = obj2.distance(obj1.centroid)\n",
    "        except:\n",
    "            print('Distance calc didnt work')\n",
    "            d = None\n",
    "    #print(f\"d is {d} for objects {type(obj1)} {type(obj2)}\")\n",
    "    return d"
   ]
  },
  {
   "cell_type": "code",
   "execution_count": 20,
   "metadata": {},
   "outputs": [],
   "source": [
    "def determine_if_connected(geodf, idx1, idx2, delaunay_tringales):\n",
    "    ' check if the nodes are connected in the graph (the centroinds should belong to one triangle):'\n",
    "    connected = False\n",
    "    for d_cell in delaunay_tringales:\n",
    "        if d_cell.intersects(geodf.centroid[idx1]) and d_cell.intersects(geodf.centroid[idx2]): #if they belong to one cell, they are connected\n",
    "            return True\n",
    "        \n",
    "    return connected\n",
    "        "
   ]
  },
  {
   "cell_type": "code",
   "execution_count": 21,
   "metadata": {},
   "outputs": [],
   "source": [
    "def calculate_centroids(geodf):\n",
    "    geodf = geodf.assign(centroid=\"\")\n",
    "    \n",
    "    for i in range(len(geodf)):\n",
    "        if type(geodf.loc[i, ('geometry')]) == 'Point':\n",
    "            geodf.loc[i, ('centroid')] = geodf.loc[i, ('geometry')]\n",
    "        else:\n",
    "            geodf.centroid[i] = geodf.loc[i, ('geometry')].centroid\n",
    "    \n",
    "    return geodf"
   ]
  },
  {
   "cell_type": "code",
   "execution_count": 22,
   "metadata": {},
   "outputs": [],
   "source": [
    "def create_graph_where_object_is_node(gp_frame, poly = None, threshold = 100):\n",
    "    ''' function takes the pandas frame and creates the graph, where the nodes are rivers and roads,\n",
    "    and buildings, and sportive objects etc.\n",
    "    Nodes have the following attributes: \n",
    "    a) type of object (road/water/house/church etc)\n",
    "    b) num of angles / points in the shape geometry\n",
    "    c) length (divided by HxW of the polygon to scale)\n",
    "    Edges have no attributes:\n",
    "    they are calculated by delaunay triangulation\n",
    "    '''\n",
    "    pos = {} #dictionary for node coord\n",
    "    net = nx.Graph() # empty graph   \n",
    "    attr = {}\n",
    "    triangles = triangulate(MultiPoint(gp_frame.centroid.tolist()))\n",
    "    for shp1 in range(0, len(gp_frame)-1): # for each object\n",
    "        # the geometry property here may be specific to my shapefile\n",
    "        object1 = gp_frame['geometry'].iloc[shp1] #get the line\n",
    "        pos[shp1] = [gp_frame['geometry'].iloc[shp1].centroid.x,  gp_frame['geometry'].iloc[shp1].centroid.y]\n",
    "        # get all line attributes\n",
    "        attributes = get_node_attributes(object1, poly, gp_frame['nature'].iloc[shp1],gp_frame['withinPoly'].iloc[shp1])\n",
    "        net.add_node(shp1) # add node\n",
    "        attr[shp1]= attributes # nested dict\n",
    "        for shp2 in range(shp1+1, len(gp_frame)):\n",
    "            object2 = gp_frame['geometry'].iloc[shp2] #get the second object\n",
    "            connected = determine_if_connected(gp_frame, shp1, shp2, triangles)\n",
    "            if connected: # if intersects               \n",
    "                net.add_edge(shp1, shp2) # edge with an attribute\n",
    "\n",
    "        # add the last element - coz first loop is not for all values, and last node needs attributes\n",
    "        attributes = get_node_attributes(object2, poly, gp_frame['nature'].iloc[shp2],gp_frame['withinPoly'].iloc[shp2])\n",
    "        attr[len(gp_frame)-1]= attributes # nested dict\n",
    "        net.add_node(shp2) # add node \n",
    "        nx.set_node_attributes(net, attr)\n",
    "\n",
    "        pos[shp2] = [gp_frame['geometry'].iloc[shp2].centroid.x, gp_frame['geometry'].iloc[shp2].centroid.y]\n",
    "\n",
    "    return net, pos"
   ]
  },
  {
   "cell_type": "code",
   "execution_count": 23,
   "metadata": {},
   "outputs": [],
   "source": [
    "def clean_and_append(final_data, data_segment, nature, polygon_bbox):\n",
    "    ''' function copies data from a data frame to a new data list of a following structure:\n",
    "    nature\n",
    "    within the image (bool) if the object is entirely inside the polygon or not\n",
    "    geometry\n",
    "    returns list of lists with objects like  [[nat, within, geom], [], []...]  '''\n",
    "    # if it is line object\n",
    "    if data_segment.empty == True:\n",
    "        pass     \n",
    "    else:\n",
    "        # check if object is completely within the polygon\n",
    "        for index, row in data_segment.iterrows(): # for each element           \n",
    "            if row['geometry'].geom_type == 'MultiPolygon' or row['geometry'].geom_type == 'MultiLineString':\n",
    "                for single_obj in row['geometry']:\n",
    "                        #print(\"data \", len(final_data), 'obj', type(single_obj))\n",
    "                        final_data.append([nature, 1, single_obj]) \n",
    "                print('a multistring detected and transformed') \n",
    "            elif row['geometry'].is_empty or row['geometry']==[]:\n",
    "                pass\n",
    "            else:   \n",
    "                final_data.append([nature, 1, row['geometry']]) # polygons are classified depending on their status always within \n",
    "\n",
    "    return final_data"
   ]
  },
  {
   "cell_type": "code",
   "execution_count": 24,
   "metadata": {},
   "outputs": [],
   "source": [
    "def clip_data(pd_obj, pd_polyg):\n",
    "    try:\n",
    "        sg = cl.clip_shp(pd_obj, pd_polyg) #all_roads[all_roads.geometry.intersects(polygon_bbox)] #extract segments of roads\n",
    "    except:\n",
    "        sg = pd.DataFrame()\n",
    "    return sg\n",
    "    "
   ]
  },
  {
   "cell_type": "code",
   "execution_count": 30,
   "metadata": {},
   "outputs": [
    {
     "name": "stderr",
     "output_type": "stream",
     "text": [
      "C:\\Users\\mkhokhlova\\AppData\\Local\\Continuum\\anaconda3\\envs\\graphs\\lib\\site-packages\\geopandas\\geodataframe.py:183: SettingWithCopyWarning: \n",
      "A value is trying to be set on a copy of a slice from a DataFrame.\n",
      "Try using .loc[row_indexer,col_indexer] = value instead\n",
      "\n",
      "See the caveats in the documentation: https://pandas.pydata.org/pandas-docs/stable/user_guide/indexing.html#returning-a-view-versus-a-copy\n",
      "  frame[geo_column_name] = level\n"
     ]
    },
    {
     "name": "stdout",
     "output_type": "stream",
     "text": [
      "./delaunay_graphs/graph_main00001.pickle\n"
     ]
    },
    {
     "name": "stderr",
     "output_type": "stream",
     "text": [
      "C:\\Users\\mkhokhlova\\AppData\\Local\\Continuum\\anaconda3\\envs\\graphs\\lib\\site-packages\\ipykernel_launcher.py:8: SettingWithCopyWarning: \n",
      "A value is trying to be set on a copy of a slice from a DataFrame\n",
      "\n",
      "See the caveats in the documentation: https://pandas.pydata.org/pandas-docs/stable/user_guide/indexing.html#returning-a-view-versus-a-copy\n",
      "  \n"
     ]
    }
   ],
   "source": [
    "name = './delaunay_graphs/' \n",
    "for i in range (1,2): # len(image_polygons) \n",
    "    # randomly shift the polygon box\n",
    "    polygon_bbox = image_polygons.iloc[i-1:i]\n",
    "    # randomly shift the polygon box\n",
    "    randomshift_val = random.randrange(-20, +20)\n",
    "    #print(polygon_bbox)\n",
    "    polygon_bbox.geometry = [translate(polygon_bbox.geometry.item(), randomshift_val, randomshift_val)]\n",
    "    #print(polygon_bbox)\n",
    "    data = []\n",
    "    # lines\n",
    "\n",
    "    sg_roads = clip_data(all_roads, polygon_bbox)  #all_roads[all_roads.geometry.intersects(polygon_bbox)] #extract segments of roads\n",
    "    data = clean_and_append(data, sg_roads, 12, polygon_bbox)\n",
    "    sg_water = clip_data(all_water, polygon_bbox)#all_water[all_water.geometry.intersects(polygon_bbox)] #extract segments of water\n",
    "    data = clean_and_append(data, sg_water, 13, polygon_bbox)\n",
    "    sg_data_rail = clip_data(data_rail, polygon_bbox)#data_rail[data_rail.geometry.intersects(polygon_bbox)]\n",
    "    data = clean_and_append(data, sg_data_rail, 14, polygon_bbox)\n",
    "    # objects\n",
    "    sg_houses = clip_data(all_buildings, polygon_bbox) #all_buildings[all_buildings.geometry.intersects(polygon_bbox)] #extract segments of buildings\n",
    "    data = clean_and_append(data, sg_houses, 1, polygon_bbox)\n",
    "    sg_sport_buil = clip_data(data_sport, polygon_bbox)#sport_buldings[sport_buldings.geometry.intersects(polygon_bbox) ]\n",
    "    data = clean_and_append(data, sg_sport_buil, 4, polygon_bbox)\n",
    "    sg_towers = clip_data(towers, polygon_bbox)#towers[towers.intersects(polygon_bbox)]\n",
    "    data = clean_and_append(data, sg_towers, 5, polygon_bbox)\n",
    "    sg_churches = clip_data(churches, polygon_bbox) # churches[churches.intersects(polygon_bbox)]\n",
    "    data = clean_and_append(data, sg_churches, 6, polygon_bbox)\n",
    "    sg_castels = clip_data(castels, polygon_bbox)#castels[castels.intersects(polygon_bbox)]\n",
    "    data = clean_and_append(data, sg_castels, 7, polygon_bbox)\n",
    "    sg_forts = clip_data(forts, polygon_bbox)#forts[forts.intersects(polygon_bbox)]\n",
    "    data = clean_and_append(data, sg_forts, 8, polygon_bbox)\n",
    "    sg_monuments = clip_data(monuments, polygon_bbox)#monuments[monuments.intersects(polygon_bbox)]\n",
    "    data = clean_and_append(data, sg_monuments, 9, polygon_bbox)\n",
    "    sg_data_cemetries = clip_data(data_cemetries, polygon_bbox)#data_cemetries[data_cemetries.geometry.intersects(polygon_bbox)]\n",
    "    data = clean_and_append(data, sg_data_cemetries, 10, polygon_bbox)\n",
    "    sg_sport = clip_data(data_sport, polygon_bbox)#data_sport[data_sport.geometry.intersects(polygon_bbox)] #extract segments of sport  things\n",
    "    data = clean_and_append(data, sg_sport, 11, polygon_bbox)\n",
    "    combined_pd = pd.DataFrame(data, columns = ['nature','withinPoly', 'geometry']) \n",
    "    sg_houses_rem =  pd.concat([sg_sport_buil,sg_towers,sg_churches,sg_castels,sg_forts,sg_monuments],ignore_index=True)\n",
    "    combined_pd = calculate_centroids(combined_pd)\n",
    "    print(name +'graph_main'+ str(i).zfill(5) +'.pickle')\n",
    "    if combined_pd.empty:\n",
    "        G = nx.empty_graph()\n",
    "    else:\n",
    "        G, pos = create_graph_where_object_is_node(gp_frame=combined_pd, poly=polygon_bbox,  threshold = 35)\n",
    "    nx.write_gpickle(G, name + str(i).zfill(5) +'_graph' +'.pickle', protocol=4)\n",
    "    with open(name + str(i).zfill(5)  +'_position.pickle', 'wb') as handle:\n",
    "        pickle.dump(pos, handle)"
   ]
  },
  {
   "cell_type": "markdown",
   "metadata": {},
   "source": [
    "## Resulting graphs demo"
   ]
  },
  {
   "cell_type": "code",
   "execution_count": 31,
   "metadata": {},
   "outputs": [
    {
     "data": {
      "text/html": [
       "<div>\n",
       "<style scoped>\n",
       "    .dataframe tbody tr th:only-of-type {\n",
       "        vertical-align: middle;\n",
       "    }\n",
       "\n",
       "    .dataframe tbody tr th {\n",
       "        vertical-align: top;\n",
       "    }\n",
       "\n",
       "    .dataframe thead th {\n",
       "        text-align: right;\n",
       "    }\n",
       "</style>\n",
       "<table border=\"1\" class=\"dataframe\">\n",
       "  <thead>\n",
       "    <tr style=\"text-align: right;\">\n",
       "      <th></th>\n",
       "      <th>nature</th>\n",
       "      <th>withinPoly</th>\n",
       "      <th>geometry</th>\n",
       "      <th>centroid</th>\n",
       "    </tr>\n",
       "  </thead>\n",
       "  <tbody>\n",
       "    <tr>\n",
       "      <th>0</th>\n",
       "      <td>12</td>\n",
       "      <td>1</td>\n",
       "      <td>LINESTRING (972374.9738118855 6858925.28828167...</td>\n",
       "      <td>POINT (972456.3044115457 6858873.084865522)</td>\n",
       "    </tr>\n",
       "    <tr>\n",
       "      <th>1</th>\n",
       "      <td>12</td>\n",
       "      <td>1</td>\n",
       "      <td>LINESTRING (972352.4521451127 6858932.52116240...</td>\n",
       "      <td>POINT (972363.712978499 6858928.904722041)</td>\n",
       "    </tr>\n",
       "    <tr>\n",
       "      <th>2</th>\n",
       "      <td>13</td>\n",
       "      <td>1</td>\n",
       "      <td>LINESTRING (972455.5912552539 6858818.90417696...</td>\n",
       "      <td>POINT (972410.3778393682 6858873.920127563)</td>\n",
       "    </tr>\n",
       "    <tr>\n",
       "      <th>3</th>\n",
       "      <td>1</td>\n",
       "      <td>1</td>\n",
       "      <td>POLYGON ((972450.2620490968 6858940.602963938,...</td>\n",
       "      <td>POINT (972472.8011388897 6858954.405426401)</td>\n",
       "    </tr>\n",
       "  </tbody>\n",
       "</table>\n",
       "</div>"
      ],
      "text/plain": [
       "   nature  withinPoly                                           geometry  \\\n",
       "0      12           1  LINESTRING (972374.9738118855 6858925.28828167...   \n",
       "1      12           1  LINESTRING (972352.4521451127 6858932.52116240...   \n",
       "2      13           1  LINESTRING (972455.5912552539 6858818.90417696...   \n",
       "3       1           1  POLYGON ((972450.2620490968 6858940.602963938,...   \n",
       "\n",
       "                                      centroid  \n",
       "0  POINT (972456.3044115457 6858873.084865522)  \n",
       "1   POINT (972363.712978499 6858928.904722041)  \n",
       "2  POINT (972410.3778393682 6858873.920127563)  \n",
       "3  POINT (972472.8011388897 6858954.405426401)  "
      ]
     },
     "execution_count": 31,
     "metadata": {},
     "output_type": "execute_result"
    }
   ],
   "source": [
    "combined_pd"
   ]
  },
  {
   "cell_type": "code",
   "execution_count": 32,
   "metadata": {},
   "outputs": [],
   "source": [
    "sg_roads = sg_roads [~sg_roads.is_empty]   #sometimes, we get empty geometries which should be cleaned\n",
    "sg_houses = sg_houses [~sg_houses.is_empty]  \n",
    "sg_water = sg_water [~sg_water.is_empty] "
   ]
  },
  {
   "cell_type": "code",
   "execution_count": 40,
   "metadata": {},
   "outputs": [
    {
     "name": "stderr",
     "output_type": "stream",
     "text": [
      "C:\\Users\\mkhokhlova\\AppData\\Local\\Continuum\\anaconda3\\envs\\graphs\\lib\\site-packages\\ipykernel_launcher.py:8: UserWarning: Setting the 'color' property will override the edgecolor or facecolor properties.\n",
      "  \n"
     ]
    },
    {
     "data": {
      "image/png": "[encoded data removed]",
      "text/plain": [
       "<Figure size 576x576 with 1 Axes>"
      ]
     },
     "metadata": {},
     "output_type": "display_data"
    }
   ],
   "source": [
    "from matplotlib.patches import Polygon as pltPolygon\n",
    "triangles = triangulate(MultiPoint(combined_pd.centroid.tolist()))\n",
    "fig, ax = plt.subplots(figsize=(8, 8))\n",
    "\n",
    "for p in combined_pd.centroid.tolist():\n",
    "    ax.scatter(p.x,p.y)\n",
    "for polygon in triangles:\n",
    "    mpl_poly = pltPolygon(np.array(polygon.exterior),facecolor=\"b\", color = 'b', lw=1, alpha=0.3)\n",
    "    ax.add_patch(mpl_poly)\n",
    "sg_roads.plot(linewidth=10.0, edgecolor='#FFA500', color='#FFA500', alpha = 0.5, ax=ax)\n",
    "sg_houses.plot(color='#FF0000', alpha = 0.5, ax=ax)\n",
    "#sg_water.plot(linewidth=10.0, color='#0000FF', ax=ax)\n",
    "#sg_data_rail.plot(linewidth=10.0, color='#FF00FF', ax=ax)\n",
    "#sg_houses_rem.plot(color='#FFFF00', ax=ax)\n",
    "nx.draw_networkx(G, pos=pos, with_labels = True, ax = ax) \n"
   ]
  },
  {
   "cell_type": "code",
   "execution_count": 41,
   "metadata": {},
   "outputs": [
    {
     "data": {
      "image/png": "[encoded data removed]",
      "text/plain": [
       "<Figure size 432x288 with 1 Axes>"
      ]
     },
     "metadata": {},
     "output_type": "display_data"
    }
   ],
   "source": [
    "nx.draw_networkx(G, pos=pos, with_labels = True)"
   ]
  },
  {
   "cell_type": "code",
   "execution_count": null,
   "metadata": {},
   "outputs": [],
   "source": []
  }
 ],
 "metadata": {
  "kernelspec": {
   "display_name": "Python 3",
   "language": "python",
   "name": "python3"
  },
  "language_info": {
   "codemirror_mode": {
    "name": "ipython",
    "version": 3
   },
   "file_extension": ".py",
   "mimetype": "text/x-python",
   "name": "python",
   "nbconvert_exporter": "python",
   "pygments_lexer": "ipython3",
   "version": "3.7.6"
  }
 },
 "nbformat": 4,
 "nbformat_minor": 2
}
