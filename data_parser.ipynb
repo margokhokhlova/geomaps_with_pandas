{
 "cells": [
  {
   "cell_type": "markdown",
   "metadata": {},
   "source": [
    "This is a jupyter notebook to get all the data from my shapefiles, group together the objects with the same label and then save the data as png images of a size 10000 x 10000 pix (which correspond to the size of my bounding boxes)."
   ]
  },
  {
   "cell_type": "code",
   "execution_count": 1,
   "metadata": {},
   "outputs": [],
   "source": [
    "import geopandas as gpd\n",
    "import matplotlib\n",
    "matplotlib.use('Agg')\n",
    "from matplotlib import pyplot as plt\n",
    "from shapely.geometry import Point, Polygon\n",
    "from matplotlib.collections import PatchCollection\n",
    "import fiona\n",
    "from descartes.patch import PolygonPatch\n",
    "import pandas as pd\n",
    "import os\n",
    "import numpy as np\n",
    "import matplotlib.lines as mlines\n",
    "from matplotlib.colors import ListedColormap\n",
    "\n",
    "# Load the box module from shapely to create box objects\n",
    "from shapely.geometry import box\n",
    "\n"
   ]
  },
  {
   "cell_type": "markdown",
   "metadata": {},
   "source": [
    "## ROADS"
   ]
  },
  {
   "cell_type": "code",
   "execution_count": 2,
   "metadata": {},
   "outputs": [],
   "source": [
    "# load all the shapely files related to ROADS\n",
    "fp_road = \"D:/allegoria/datasets_alegoria/BD/BD_topo/cotedor/BDTOPO_2-2_TOUSTHEMES_SHP_LAMB93_D021_2018-09-25/BDTOPO/1_DONNEES_LIVRAISON_2018-11-00144/BDT_2-2_SHP_LAMB93_D021-ED182/A_RESEAU_ROUTIER/ROUTE.shp\"\n",
    "fp_nmrd = \"D:/allegoria/datasets_alegoria/BD/BD_topo/cotedor/BDTOPO_2-2_TOUSTHEMES_SHP_LAMB93_D021_2018-09-25/BDTOPO/1_DONNEES_LIVRAISON_2018-11-00144/BDT_2-2_SHP_LAMB93_D021-ED182/A_RESEAU_ROUTIER/ROUTE_NOMMEE.shp\"\n",
    "fp_prrd= \"D:/allegoria/datasets_alegoria/BD/BD_topo/cotedor/BDTOPO_2-2_TOUSTHEMES_SHP_LAMB93_D021_2018-09-25/BDTOPO/1_DONNEES_LIVRAISON_2018-11-00144/BDT_2-2_SHP_LAMB93_D021-ED182/A_RESEAU_ROUTIER/ROUTE_PRIMAIRE.shp\"\n",
    "fp_scrd =\"D:/allegoria/datasets_alegoria/BD/BD_topo/cotedor/BDTOPO_2-2_TOUSTHEMES_SHP_LAMB93_D021_2018-09-25/BDTOPO/1_DONNEES_LIVRAISON_2018-11-00144/BDT_2-2_SHP_LAMB93_D021-ED182/A_RESEAU_ROUTIER/ROUTE_SECONDAIRE.shp\"\n",
    "# Read file using gpd.read_file()\n",
    "data_road = gpd.read_file(fp_road)\n",
    "data_nmrd =  gpd.read_file(fp_nmrd)\n",
    "data_prrd = gpd.read_file(fp_prrd)\n",
    "data_scrd = gpd.read_file(fp_scrd)\n",
    "frames = [data_road, data_nmrd, data_prrd, data_scrd]\n",
    "# make a single table with all the roads, not just a signle type\n",
    "all_roads=  pd.concat([data_road, data_nmrd, data_prrd, data_scrd],ignore_index=True ) "
   ]
  },
  {
   "cell_type": "code",
   "execution_count": 3,
   "metadata": {},
   "outputs": [
    {
     "data": {
      "text/html": [
       "<div>\n",
       "<style scoped>\n",
       "    .dataframe tbody tr th:only-of-type {\n",
       "        vertical-align: middle;\n",
       "    }\n",
       "\n",
       "    .dataframe tbody tr th {\n",
       "        vertical-align: top;\n",
       "    }\n",
       "\n",
       "    .dataframe thead th {\n",
       "        text-align: right;\n",
       "    }\n",
       "</style>\n",
       "<table border=\"1\" class=\"dataframe\">\n",
       "  <thead>\n",
       "    <tr style=\"text-align: right;\">\n",
       "      <th></th>\n",
       "      <th>ID</th>\n",
       "      <th>PREC_PLANI</th>\n",
       "      <th>PREC_ALTI</th>\n",
       "      <th>NATURE</th>\n",
       "      <th>NUMERO</th>\n",
       "      <th>NOM_VOIE_G</th>\n",
       "      <th>NOM_VOIE_D</th>\n",
       "      <th>IMPORTANCE</th>\n",
       "      <th>CL_ADMIN</th>\n",
       "      <th>GESTION</th>\n",
       "      <th>...</th>\n",
       "      <th>CODEPOST_D</th>\n",
       "      <th>TYP_ADRES</th>\n",
       "      <th>BORNEDEB_G</th>\n",
       "      <th>BORNEDEB_D</th>\n",
       "      <th>BORNEFIN_G</th>\n",
       "      <th>BORNEFIN_D</th>\n",
       "      <th>ETAT</th>\n",
       "      <th>Z_INI</th>\n",
       "      <th>Z_FIN</th>\n",
       "      <th>geometry</th>\n",
       "    </tr>\n",
       "  </thead>\n",
       "  <tbody>\n",
       "    <tr>\n",
       "      <th>0</th>\n",
       "      <td>TRONROUT0000000053091419</td>\n",
       "      <td>1.5</td>\n",
       "      <td>1.0</td>\n",
       "      <td>Route Ã  2 chaussÃ©es</td>\n",
       "      <td>NC</td>\n",
       "      <td>AV JEAN JAURES</td>\n",
       "      <td>AV JEAN JAURES</td>\n",
       "      <td>3</td>\n",
       "      <td>Autre</td>\n",
       "      <td>NC</td>\n",
       "      <td>...</td>\n",
       "      <td>21000</td>\n",
       "      <td>Classique</td>\n",
       "      <td>0</td>\n",
       "      <td>0</td>\n",
       "      <td>0</td>\n",
       "      <td>0</td>\n",
       "      <td>NR</td>\n",
       "      <td>238.6</td>\n",
       "      <td>238.6</td>\n",
       "      <td>LINESTRING Z (853148 6692172.1 238.6, 853145.8...</td>\n",
       "    </tr>\n",
       "    <tr>\n",
       "      <th>1</th>\n",
       "      <td>TRONROUT0000000052987762</td>\n",
       "      <td>1.5</td>\n",
       "      <td>1.0</td>\n",
       "      <td>Route Ã  1 chaussÃ©e</td>\n",
       "      <td>D102B</td>\n",
       "      <td>None</td>\n",
       "      <td>None</td>\n",
       "      <td>4</td>\n",
       "      <td>DÃ©partementale</td>\n",
       "      <td>21</td>\n",
       "      <td>...</td>\n",
       "      <td>21570</td>\n",
       "      <td>NR</td>\n",
       "      <td>0</td>\n",
       "      <td>0</td>\n",
       "      <td>0</td>\n",
       "      <td>0</td>\n",
       "      <td>NR</td>\n",
       "      <td>217.7</td>\n",
       "      <td>218.1</td>\n",
       "      <td>LINESTRING Z (824698.5 6760699.3 217.7, 824709...</td>\n",
       "    </tr>\n",
       "    <tr>\n",
       "      <th>2</th>\n",
       "      <td>TRONROUT0000000053188680</td>\n",
       "      <td>1.5</td>\n",
       "      <td>1.0</td>\n",
       "      <td>Route Ã  1 chaussÃ©e</td>\n",
       "      <td>NC</td>\n",
       "      <td>R DES ECOLES</td>\n",
       "      <td>R DES ECOLES</td>\n",
       "      <td>5</td>\n",
       "      <td>Autre</td>\n",
       "      <td>NC</td>\n",
       "      <td>...</td>\n",
       "      <td>21190</td>\n",
       "      <td>Classique</td>\n",
       "      <td>0</td>\n",
       "      <td>0</td>\n",
       "      <td>0</td>\n",
       "      <td>0</td>\n",
       "      <td>NR</td>\n",
       "      <td>235.8</td>\n",
       "      <td>235.6</td>\n",
       "      <td>LINESTRING Z (834393.9 6654304 235.8, 834394.3...</td>\n",
       "    </tr>\n",
       "    <tr>\n",
       "      <th>3</th>\n",
       "      <td>TRONROUT0000000053154881</td>\n",
       "      <td>1.5</td>\n",
       "      <td>1.0</td>\n",
       "      <td>Route Ã  1 chaussÃ©e</td>\n",
       "      <td>D110E</td>\n",
       "      <td>RTE DE PAGNY LA VILLE</td>\n",
       "      <td>RTE DE PAGNY LA VILLE</td>\n",
       "      <td>4</td>\n",
       "      <td>DÃ©partementale</td>\n",
       "      <td>21</td>\n",
       "      <td>...</td>\n",
       "      <td>21250</td>\n",
       "      <td>Classique</td>\n",
       "      <td>0</td>\n",
       "      <td>0</td>\n",
       "      <td>0</td>\n",
       "      <td>0</td>\n",
       "      <td>NR</td>\n",
       "      <td>179.9</td>\n",
       "      <td>179.9</td>\n",
       "      <td>LINESTRING Z (864121.6 6664532.8 179.9, 864126...</td>\n",
       "    </tr>\n",
       "    <tr>\n",
       "      <th>4</th>\n",
       "      <td>TRONROUT0000000053155590</td>\n",
       "      <td>1.5</td>\n",
       "      <td>1.0</td>\n",
       "      <td>Route Ã  1 chaussÃ©e</td>\n",
       "      <td>D34</td>\n",
       "      <td>None</td>\n",
       "      <td>None</td>\n",
       "      <td>4</td>\n",
       "      <td>DÃ©partementale</td>\n",
       "      <td>21</td>\n",
       "      <td>...</td>\n",
       "      <td>21250</td>\n",
       "      <td>NR</td>\n",
       "      <td>0</td>\n",
       "      <td>0</td>\n",
       "      <td>0</td>\n",
       "      <td>0</td>\n",
       "      <td>NR</td>\n",
       "      <td>177.9</td>\n",
       "      <td>177.9</td>\n",
       "      <td>LINESTRING Z (863090.4 6660066.6 177.9, 863082...</td>\n",
       "    </tr>\n",
       "  </tbody>\n",
       "</table>\n",
       "<p>5 rows × 37 columns</p>\n",
       "</div>"
      ],
      "text/plain": [
       "                         ID  PREC_PLANI  PREC_ALTI                 NATURE  \\\n",
       "0  TRONROUT0000000053091419         1.5        1.0  Route Ã  2 chaussÃ©es   \n",
       "1  TRONROUT0000000052987762         1.5        1.0   Route Ã  1 chaussÃ©e   \n",
       "2  TRONROUT0000000053188680         1.5        1.0   Route Ã  1 chaussÃ©e   \n",
       "3  TRONROUT0000000053154881         1.5        1.0   Route Ã  1 chaussÃ©e   \n",
       "4  TRONROUT0000000053155590         1.5        1.0   Route Ã  1 chaussÃ©e   \n",
       "\n",
       "  NUMERO             NOM_VOIE_G             NOM_VOIE_D IMPORTANCE  \\\n",
       "0     NC         AV JEAN JAURES         AV JEAN JAURES          3   \n",
       "1  D102B                   None                   None          4   \n",
       "2     NC           R DES ECOLES           R DES ECOLES          5   \n",
       "3  D110E  RTE DE PAGNY LA VILLE  RTE DE PAGNY LA VILLE          4   \n",
       "4    D34                   None                   None          4   \n",
       "\n",
       "          CL_ADMIN GESTION  ... CODEPOST_D  TYP_ADRES BORNEDEB_G BORNEDEB_D  \\\n",
       "0            Autre      NC  ...      21000  Classique          0          0   \n",
       "1  DÃ©partementale      21  ...      21570         NR          0          0   \n",
       "2            Autre      NC  ...      21190  Classique          0          0   \n",
       "3  DÃ©partementale      21  ...      21250  Classique          0          0   \n",
       "4  DÃ©partementale      21  ...      21250         NR          0          0   \n",
       "\n",
       "  BORNEFIN_G  BORNEFIN_D ETAT  Z_INI  Z_FIN  \\\n",
       "0          0           0   NR  238.6  238.6   \n",
       "1          0           0   NR  217.7  218.1   \n",
       "2          0           0   NR  235.8  235.6   \n",
       "3          0           0   NR  179.9  179.9   \n",
       "4          0           0   NR  177.9  177.9   \n",
       "\n",
       "                                            geometry  \n",
       "0  LINESTRING Z (853148 6692172.1 238.6, 853145.8...  \n",
       "1  LINESTRING Z (824698.5 6760699.3 217.7, 824709...  \n",
       "2  LINESTRING Z (834393.9 6654304 235.8, 834394.3...  \n",
       "3  LINESTRING Z (864121.6 6664532.8 179.9, 864126...  \n",
       "4  LINESTRING Z (863090.4 6660066.6 177.9, 863082...  \n",
       "\n",
       "[5 rows x 37 columns]"
      ]
     },
     "execution_count": 3,
     "metadata": {},
     "output_type": "execute_result"
    }
   ],
   "source": [
    "all_roads.head() # small demo of the roads "
   ]
  },
  {
   "cell_type": "code",
   "execution_count": 4,
   "metadata": {},
   "outputs": [
    {
     "data": {
      "text/plain": [
       "<matplotlib.axes._subplots.AxesSubplot at 0x27e659b3cf8>"
      ]
     },
     "execution_count": 4,
     "metadata": {},
     "output_type": "execute_result"
    }
   ],
   "source": [
    "# we can plot all the Roads network of cote d'Or\n",
    "all_roads.plot()"
   ]
  },
  {
   "cell_type": "markdown",
   "metadata": {},
   "source": [
    "Data type - geographical projection of he data used."
   ]
  },
  {
   "cell_type": "code",
   "execution_count": 5,
   "metadata": {},
   "outputs": [
    {
     "data": {
      "text/plain": [
       "{'init': 'epsg:2154'}"
      ]
     },
     "execution_count": 5,
     "metadata": {},
     "output_type": "execute_result"
    }
   ],
   "source": [
    "all_roads.crs"
   ]
  },
  {
   "cell_type": "markdown",
   "metadata": {},
   "source": [
    "## Houses"
   ]
  },
  {
   "cell_type": "code",
   "execution_count": 12,
   "metadata": {},
   "outputs": [
    {
     "name": "stderr",
     "output_type": "stream",
     "text": [
      "C:\\Users\\margo\\Anaconda3\\envs\\gdal2\\lib\\site-packages\\ipykernel_launcher.py:13: FutureWarning: Sorting because non-concatenation axis is not aligned. A future version\n",
      "of pandas will change to not sort by default.\n",
      "\n",
      "To accept the future behavior, pass 'sort=False'.\n",
      "\n",
      "To retain the current behavior and silence the warning, pass 'sort=True'.\n",
      "\n",
      "  del sys.path[0]\n"
     ]
    }
   ],
   "source": [
    "# Load all the data from the BUILDINGS caegory\n",
    "fp_bati = \"D:/allegoria/datasets_alegoria/BD/BD_topo/cotedor/BDTOPO_2-2_TOUSTHEMES_SHP_LAMB93_D021_2018-09-25/BDTOPO/1_DONNEES_LIVRAISON_2018-11-00144/BDT_2-2_SHP_LAMB93_D021-ED182/E_BATI/BATI_INDIFFERENCIE.shp\"\n",
    "fp_inds = \"D:/allegoria/datasets_alegoria/BD/BD_topo/cotedor/BDTOPO_2-2_TOUSTHEMES_SHP_LAMB93_D021_2018-09-25/BDTOPO/1_DONNEES_LIVRAISON_2018-11-00144/BDT_2-2_SHP_LAMB93_D021-ED182/E_BATI/BATI_INDUSTRIEL.shp\"\n",
    "fp_remk = \"D:/allegoria/datasets_alegoria/BD/BD_topo/cotedor/BDTOPO_2-2_TOUSTHEMES_SHP_LAMB93_D021_2018-09-25/BDTOPO/1_DONNEES_LIVRAISON_2018-11-00144/BDT_2-2_SHP_LAMB93_D021-ED182/E_BATI/BATI_REMARQUABLE.shp\"\n",
    "fp_ligh = \"D:/allegoria/datasets_alegoria/BD/BD_topo/cotedor/BDTOPO_2-2_TOUSTHEMES_SHP_LAMB93_D021_2018-09-25/BDTOPO/1_DONNEES_LIVRAISON_2018-11-00144/BDT_2-2_SHP_LAMB93_D021-ED182/E_BATI/CONSTRUCTION_LEGERE.shp\"\n",
    "# Read file using gpd.read_file()\n",
    "buildings1= gpd.read_file(fp_bati)\n",
    "buildings2 =gpd.read_file(fp_inds)\n",
    "buildings3 = gpd.read_file(fp_remk)\n",
    "buildings4 = gpd.read_file(fp_ligh)\n",
    "frames = [buildings1, buildings2, buildings3, buildings4]\n",
    "# concaenate the buildings into a single table\n",
    "all_buildings =  pd.concat([buildings1, buildings2, buildings3, buildings4],ignore_index=True )"
   ]
  },
  {
   "cell_type": "markdown",
   "metadata": {},
   "source": [
    "## WATER "
   ]
  },
  {
   "cell_type": "code",
   "execution_count": 13,
   "metadata": {},
   "outputs": [
    {
     "data": {
      "text/plain": [
       "<matplotlib.axes._subplots.AxesSubplot at 0x27e15ee3978>"
      ]
     },
     "execution_count": 13,
     "metadata": {},
     "output_type": "execute_result"
    }
   ],
   "source": [
    "fp_water = \"D:/allegoria/datasets_alegoria/BD/BD_topo/cotedor/BDTOPO_2-2_TOUSTHEMES_SHP_LAMB93_D021_2018-09-25/BDTOPO/1_DONNEES_LIVRAISON_2018-11-00144/BDT_2-2_SHP_LAMB93_D021-ED182/D_HYDROGRAPHIE/SURFACE_EAU.shp\"\n",
    "data_water = gpd.read_file(fp_water)\n",
    "data_water.plot()\n"
   ]
  },
  {
   "cell_type": "markdown",
   "metadata": {},
   "source": [
    "## SPORT TERRITORIES"
   ]
  },
  {
   "cell_type": "code",
   "execution_count": 14,
   "metadata": {},
   "outputs": [
    {
     "data": {
      "text/plain": [
       "<matplotlib.axes._subplots.AxesSubplot at 0x27e172a8828>"
      ]
     },
     "execution_count": 14,
     "metadata": {},
     "output_type": "execute_result"
    }
   ],
   "source": [
    "fp_sport = \"D:/allegoria/datasets_alegoria/BD/BD_topo/cotedor/BDTOPO_2-2_TOUSTHEMES_SHP_LAMB93_D021_2018-09-25/BDTOPO/1_DONNEES_LIVRAISON_2018-11-00144/BDT_2-2_SHP_LAMB93_D021-ED182/E_BATI/TERRAIN_SPORT.shp\"\n",
    "data_sport = gpd.read_file(fp_sport)\n",
    "data_sport.plot()"
   ]
  },
  {
   "cell_type": "markdown",
   "metadata": {},
   "source": [
    "## BOUNDING BOXES FROM THE IMAGES"
   ]
  },
  {
   "cell_type": "markdown",
   "metadata": {},
   "source": [
    "Finally, load the bounding boxes from all the jp2 images I have for a department"
   ]
  },
  {
   "cell_type": "code",
   "execution_count": 5,
   "metadata": {},
   "outputs": [],
   "source": [
    "bb_boxes_path = 'D:/allegoria/datasets_alegoria/BD/BD_ortho/cotedor/BDORTHO_2-0_RVB-0M50_JP2-E080_LAMB93_D021_2017-01-01/BDORTHO/3_SUPPLEMENTS_LIVRAISON_2018-01-00368/BDO_RVB_0M50_JP2-E080_LAMB93_D21-2017/dalles.shp'\n",
    "bb_boxes= gpd.read_file(bb_boxes_path)"
   ]
  },
  {
   "cell_type": "code",
   "execution_count": 6,
   "metadata": {},
   "outputs": [
    {
     "data": {
      "text/plain": [
       "<matplotlib.axes._subplots.AxesSubplot at 0x27e15d65358>"
      ]
     },
     "execution_count": 6,
     "metadata": {},
     "output_type": "execute_result"
    }
   ],
   "source": [
    "bb_boxes.plot()"
   ]
  },
  {
   "cell_type": "code",
   "execution_count": 7,
   "metadata": {},
   "outputs": [],
   "source": [
    "bb_boxes.head()\n",
    "coordinates = bb_boxes['geometry'].iat[0].exterior.coords"
   ]
  },
  {
   "cell_type": "code",
   "execution_count": 8,
   "metadata": {},
   "outputs": [
    {
     "name": "stdout",
     "output_type": "stream",
     "text": [
      "785000.0\n",
      "790000.0\n",
      "6715000.0\n",
      "6720000.0\n"
     ]
    }
   ],
   "source": [
    "print(coordinates[0][0])\n",
    "print(coordinates[1][0])\n",
    "print(coordinates[2][1])\n",
    "print(coordinates[0][1])"
   ]
  },
  {
   "cell_type": "markdown",
   "metadata": {},
   "source": [
    "## Save the shape files as .png in correspondence with given images"
   ]
  },
  {
   "cell_type": "markdown",
   "metadata": {},
   "source": [
    "The function below works very slow, long to execute but the files are really huge - 10000x10000 pixels"
   ]
  },
  {
   "cell_type": "code",
   "execution_count": 15,
   "metadata": {},
   "outputs": [
    {
     "name": "stdout",
     "output_type": "stream",
     "text": [
      "5000.0 5000.0\n",
      "./21-2017-0785-6720-LA93-0M50-E080.jp2\n"
     ]
    },
    {
     "ename": "NameError",
     "evalue": "name 'floa' is not defined",
     "output_type": "error",
     "traceback": [
      "\u001b[1;31m---------------------------------------------------------------------------\u001b[0m",
      "\u001b[1;31mNameError\u001b[0m                                 Traceback (most recent call last)",
      "\u001b[1;32m<ipython-input-15-51c67adea617>\u001b[0m in \u001b[0;36m<module>\u001b[1;34m\u001b[0m\n\u001b[0;32m     34\u001b[0m     \u001b[0msg_water\u001b[0m \u001b[1;33m=\u001b[0m \u001b[0mdata_water\u001b[0m\u001b[1;33m[\u001b[0m\u001b[0mdata_water\u001b[0m\u001b[1;33m.\u001b[0m\u001b[0mgeometry\u001b[0m\u001b[1;33m.\u001b[0m\u001b[0mwithin\u001b[0m\u001b[1;33m(\u001b[0m\u001b[0mbb_box\u001b[0m\u001b[1;33m)\u001b[0m\u001b[1;33m]\u001b[0m \u001b[1;31m#extract segments of roads\u001b[0m\u001b[1;33m\u001b[0m\u001b[0m\n\u001b[0;32m     35\u001b[0m     \u001b[0mname_wpath\u001b[0m \u001b[1;33m=\u001b[0m \u001b[0msave_path3\u001b[0m \u001b[1;33m+\u001b[0m \u001b[0mname\u001b[0m\u001b[1;33m[\u001b[0m\u001b[1;36m1\u001b[0m\u001b[1;33m:\u001b[0m\u001b[1;33m-\u001b[0m\u001b[1;36m4\u001b[0m\u001b[1;33m]\u001b[0m \u001b[1;33m+\u001b[0m \u001b[1;34m'.png'\u001b[0m\u001b[1;33m\u001b[0m\u001b[0m\n\u001b[1;32m---> 36\u001b[1;33m     \u001b[0mfig\u001b[0m  \u001b[1;33m=\u001b[0m \u001b[0msg_water\u001b[0m\u001b[1;33m.\u001b[0m\u001b[0mplot\u001b[0m\u001b[1;33m(\u001b[0m\u001b[0mfigsize\u001b[0m\u001b[1;33m=\u001b[0m\u001b[1;33m(\u001b[0m\u001b[0mx_width\u001b[0m\u001b[1;33m/\u001b[0m\u001b[0mfloa\u001b[0m\u001b[1;33m(\u001b[0m\u001b[1;36m10\u001b[0m\u001b[1;33m*\u001b[0m\u001b[0mmy_dpi\u001b[0m\u001b[1;33m)\u001b[0m\u001b[1;33m,\u001b[0m \u001b[0my_width\u001b[0m\u001b[1;33m/\u001b[0m\u001b[0mfloat\u001b[0m\u001b[1;33m(\u001b[0m\u001b[1;36m10\u001b[0m\u001b[1;33m*\u001b[0m\u001b[0mmy_dpi\u001b[0m\u001b[1;33m)\u001b[0m\u001b[1;33m)\u001b[0m\u001b[1;33m)\u001b[0m\u001b[1;33m\u001b[0m\u001b[0m\n\u001b[0m\u001b[0;32m     37\u001b[0m     \u001b[0mfig\u001b[0m\u001b[1;33m.\u001b[0m\u001b[0mset_xlim\u001b[0m\u001b[1;33m(\u001b[0m\u001b[1;33m[\u001b[0m\u001b[0mcoordinates\u001b[0m\u001b[1;33m[\u001b[0m\u001b[1;36m1\u001b[0m\u001b[1;33m]\u001b[0m\u001b[1;33m[\u001b[0m\u001b[1;36m0\u001b[0m\u001b[1;33m]\u001b[0m\u001b[1;33m,\u001b[0m \u001b[0mcoordinates\u001b[0m\u001b[1;33m[\u001b[0m\u001b[1;36m0\u001b[0m\u001b[1;33m]\u001b[0m\u001b[1;33m[\u001b[0m\u001b[1;36m0\u001b[0m\u001b[1;33m]\u001b[0m\u001b[1;33m]\u001b[0m\u001b[1;33m)\u001b[0m\u001b[1;33m\u001b[0m\u001b[0m\n\u001b[0;32m     38\u001b[0m     \u001b[0mplt\u001b[0m\u001b[1;33m.\u001b[0m\u001b[0maxis\u001b[0m\u001b[1;33m(\u001b[0m\u001b[1;34m'off'\u001b[0m\u001b[1;33m)\u001b[0m\u001b[1;33m\u001b[0m\u001b[0m\n",
      "\u001b[1;31mNameError\u001b[0m: name 'floa' is not defined"
     ]
    }
   ],
   "source": [
    "save_path = 'D:/allegoria/topo_ortho/cotedor/roads'\n",
    "save_path2 = 'D:/allegoria/topo_ortho/cotedor/buildings'\n",
    "save_path3 = 'D:/allegoria/topo_ortho/cotedor/water'\n",
    "save_path4 = 'D:/allegoria/topo_ortho/cotedor/sport'\n",
    "my_dpi=177\n",
    "for i in range(1): # range - number of images\n",
    "    bb_box = bb_boxes['geometry'].iat[i]\n",
    "    coordinates = bb_boxes['geometry'].iat[i].exterior.coords\n",
    "    x_width, y_width =  coordinates[1][0]-coordinates[0][0], coordinates[0][1]-coordinates[2][1]\n",
    "    print(x_width, y_width)\n",
    "   \n",
    "    #roads\n",
    "    sg_roads = all_roads[all_roads.geometry.within(bb_box)] #extract segments of roads\n",
    "    name = bb_boxes['NOM'].iat[i]\n",
    "    print(name)\n",
    "    name_wpath = save_path + name[1:-4] + '.png'\n",
    "    fig  = sg_roads.plot(figsize=(x_width/float(10*my_dpi), y_width/float(10*my_dpi)))\n",
    "    plt.axis('off')\n",
    "    fig.set_xlim()\n",
    "    fig.axes.get_xaxis().set_visible(False)\n",
    "    fig.axes.get_yaxis().set_visible(False)\n",
    "    plt.savefig(name_wpath, type=\"png\", dpi= float(my_dpi) * 10)\n",
    "    \n",
    "    # buildings\n",
    "    sg_houses = all_buildings[all_buildings.geometry.within(bb_box)] #extract segments of roads\n",
    "    name_wpath = save_path2 + name[1:-4] + '.png'\n",
    "    fig  = sg_houses.plot(figsize=(x_width/float(10*my_dpi), y_width/float(10*my_dpi)))\n",
    "    plt.axis('off')\n",
    "    fig.axes.get_xaxis().set_visible(False)\n",
    "    fig.axes.get_yaxis().set_visible(False)\n",
    "    plt.savefig(name_wpath,type=\"png\", dpi=float(my_dpi) * 10)\n",
    "    \n",
    "    # water\n",
    "    sg_water = data_water[data_water.geometry.within(bb_box)] #extract segments of roads\n",
    "    name_wpath = save_path3 + name[1:-4] + '.png'\n",
    "    fig  = sg_water.plot(figsize=(x_width/floa(10*my_dpi), y_width/float(10*my_dpi)))\n",
    "    fig.set_xlim([coordinates[1][0], coordinates[0][0]])\n",
    "    plt.axis('off')\n",
    "    fig.axes.get_xaxis().set_visible(False)\n",
    "    fig.axes.get_yaxis().set_visible(False)\n",
    "    plt.savefig(name_wpath,type=\"png\", dpi=float(my_dpi) * 10)\n",
    "    \n",
    "    #sport \n",
    "    sg_sport = data_sport[data_sport.geometry.within(bb_box)] #extract segments of roads\n",
    "    name_wpath = save_path4 + name[1:-4] + '.png'\n",
    "    fig  = sg_sport.plot(figsize=(x_width/float(10*my_dpi), y_width/float(10*my_dpi)))\n",
    "    fig.set_xlim([coordinates[1][0], coordinates[0][0]])\n",
    "    plt.axis('off')\n",
    "    fig.axes.get_xaxis().set_visible(False)\n",
    "    fig.axes.get_yaxis().set_visible(False)\n",
    "    plt.savefig(name_wpath,type=\"png\", dpi=float(my_dpi) * 10)\n",
    "    \n",
    "    \n",
    "    "
   ]
  },
  {
   "cell_type": "markdown",
   "metadata": {},
   "source": [
    "## TEST VISUALIZATION"
   ]
  },
  {
   "cell_type": "code",
   "execution_count": 145,
   "metadata": {},
   "outputs": [
    {
     "ename": "ModuleNotFoundError",
     "evalue": "No module named 'rasterio'",
     "output_type": "error",
     "traceback": [
      "\u001b[1;31m---------------------------------------------------------------------------\u001b[0m",
      "\u001b[1;31mModuleNotFoundError\u001b[0m                       Traceback (most recent call last)",
      "\u001b[1;32m<ipython-input-145-279c552971f4>\u001b[0m in \u001b[0;36m<module>\u001b[1;34m\u001b[0m\n\u001b[0;32m      1\u001b[0m \u001b[1;31m# small verification of the results\u001b[0m\u001b[1;33m\u001b[0m\u001b[1;33m\u001b[0m\u001b[0m\n\u001b[1;32m----> 2\u001b[1;33m \u001b[1;32mimport\u001b[0m \u001b[0mrasterio\u001b[0m\u001b[1;33m\u001b[0m\u001b[0m\n\u001b[0m\u001b[0;32m      3\u001b[0m \u001b[1;32mimport\u001b[0m \u001b[0mgeopyspark\u001b[0m \u001b[1;32mas\u001b[0m \u001b[0mgps\u001b[0m\u001b[1;33m\u001b[0m\u001b[0m\n\u001b[0;32m      4\u001b[0m \u001b[1;32mimport\u001b[0m \u001b[0mnumpy\u001b[0m \u001b[1;32mas\u001b[0m \u001b[0mnp\u001b[0m\u001b[1;33m\u001b[0m\u001b[0m\n\u001b[0;32m      5\u001b[0m \u001b[1;32mfrom\u001b[0m \u001b[0mpyspark\u001b[0m \u001b[1;32mimport\u001b[0m \u001b[0mSparkContext\u001b[0m\u001b[1;33m\u001b[0m\u001b[0m\n",
      "\u001b[1;31mModuleNotFoundError\u001b[0m: No module named 'rasterio'"
     ]
    }
   ],
   "source": [
    "# small verification of the results\n",
    "# https://pypi.org/project/GDAL/\n",
    "im_path = \"D:/allegoria/datasets_alegoria/BD/BD_ortho/cotedor/BDORTHO_2-0_RVB-0M50_JP2-E080_LAMB93_D021_2017-01-01/BDORTHO/1_DONNEES_LIVRAISON_2018-01-00368/BDO_RVB_0M50_JP2-E080_LAMB93_D21-2017/21-2017-0780-6670-LA93-0M50-E080.jp2\"\n",
    "#image=scipy.misc.imread(im_path)"
   ]
  },
  {
   "cell_type": "code",
   "execution_count": 148,
   "metadata": {},
   "outputs": [],
   "source": [
    "sg_houses.to_file(\"D:/allegoria/topo_ortho/21-2017-0785-6720-LA93-0M50-E080.shp\")"
   ]
  },
  {
   "cell_type": "code",
   "execution_count": 11,
   "metadata": {},
   "outputs": [
    {
     "name": "stdout",
     "output_type": "stream",
     "text": [
      "5000.0 5000.0\n",
      "./21-2017-0785-6720-LA93-0M50-E080.jp2\n"
     ]
    }
   ],
   "source": [
    "save_path = 'D:/allegoria/topo_ortho/cotedor/roads'\n",
    "save_path2 = 'D:/allegoria/topo_ortho/cotedor/buildings'\n",
    "save_path3 = 'D:/allegoria/topo_ortho/cotedor/water'\n",
    "save_path4 = 'D:/allegoria/topo_ortho/cotedor/sport'\n",
    "my_dpi=177\n",
    "for i in range(1): # range - number of images\n",
    "    bb_box = bb_boxes['geometry'].iat[i]\n",
    "    coordinates = bb_boxes['geometry'].iat[i].exterior.coords\n",
    "    x_width, y_width =  coordinates[1][0]-coordinates[0][0], coordinates[0][1]-coordinates[2][1]\n",
    "    print(x_width, y_width)\n",
    "   \n",
    "    #roads\n",
    "    sg_roads = all_roads[all_roads.geometry.within(bb_box)] #extract segments of roads\n",
    "    name = bb_boxes['NOM'].iat[i]\n",
    "    print(name)\n",
    "    name_wpath = save_path + name[1:-4] + '.png'\n",
    "    fig  = sg_roads.plot(figsize=(x_width/float(10*my_dpi), y_width/float(10*my_dpi)))\n",
    "    plt.axis('off')\n",
    "    fig.set_xlim([coordinates[1][0], coordinates[0][0]])\n",
    "    fig.axes.get_xaxis().set_visible(False)\n",
    "    fig.axes.get_yaxis().set_visible(False)\n",
    "    plt.savefig(name_wpath, type=\"png\", dpi= float(my_dpi) * 10)"
   ]
  },
  {
   "cell_type": "code",
   "execution_count": null,
   "metadata": {},
   "outputs": [],
   "source": []
  }
 ],
 "metadata": {
  "kernelspec": {
   "display_name": "Python 3",
   "language": "python",
   "name": "python3"
  },
  "language_info": {
   "codemirror_mode": {
    "name": "ipython",
    "version": 3
   },
   "file_extension": ".py",
   "mimetype": "text/x-python",
   "name": "python",
   "nbconvert_exporter": "python",
   "pygments_lexer": "ipython3",
   "version": "3.6.6"
  }
 },
 "nbformat": 4,
 "nbformat_minor": 2
}
